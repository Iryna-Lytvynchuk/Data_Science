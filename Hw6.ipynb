{
  "nbformat": 4,
  "nbformat_minor": 0,
  "metadata": {
    "colab": {
      "name": "Hw6.ipynb",
      "provenance": [],
      "collapsed_sections": [],
      "authorship_tag": "ABX9TyOeINPYLh+RiGIrY8z7rq7j",
      "include_colab_link": true
    },
    "kernelspec": {
      "name": "python3",
      "display_name": "Python 3"
    },
    "language_info": {
      "name": "python"
    }
  },
  "cells": [
    {
      "cell_type": "markdown",
      "metadata": {
        "id": "view-in-github",
        "colab_type": "text"
      },
      "source": [
        "<a href=\"https://colab.research.google.com/github/Iryna-Lytvynchuk/Data_Science/blob/main/Hw6.ipynb\" target=\"_parent\"><img src=\"https://colab.research.google.com/assets/colab-badge.svg\" alt=\"Open In Colab\"/></a>"
      ]
    },
    {
      "cell_type": "code",
      "metadata": {
        "colab": {
          "base_uri": "https://localhost:8080/"
        },
        "id": "Bz2sZH0hEBfO",
        "outputId": "287b9531-0acc-4d99-8b56-020078a302f8"
      },
      "source": [
        "!pip install pyspark\n"
      ],
      "execution_count": null,
      "outputs": [
        {
          "output_type": "stream",
          "name": "stdout",
          "text": [
            "Collecting pyspark\n",
            "  Downloading pyspark-3.2.0.tar.gz (281.3 MB)\n",
            "\u001b[K     |████████████████████████████████| 281.3 MB 9.1 kB/s \n",
            "\u001b[?25hCollecting py4j==0.10.9.2\n",
            "  Downloading py4j-0.10.9.2-py2.py3-none-any.whl (198 kB)\n",
            "\u001b[K     |████████████████████████████████| 198 kB 47.2 MB/s \n",
            "\u001b[?25hBuilding wheels for collected packages: pyspark\n",
            "  Building wheel for pyspark (setup.py) ... \u001b[?25l\u001b[?25hdone\n",
            "  Created wheel for pyspark: filename=pyspark-3.2.0-py2.py3-none-any.whl size=281805912 sha256=1eb29d68fd0b60cac73ec5494ca9775ecdf0821063b2a545752130dd9f609f69\n",
            "  Stored in directory: /root/.cache/pip/wheels/0b/de/d2/9be5d59d7331c6c2a7c1b6d1a4f463ce107332b1ecd4e80718\n",
            "Successfully built pyspark\n",
            "Installing collected packages: py4j, pyspark\n",
            "Successfully installed py4j-0.10.9.2 pyspark-3.2.0\n"
          ]
        }
      ]
    },
    {
      "cell_type": "code",
      "metadata": {
        "id": "x_4Or9ZQ5Nmu"
      },
      "source": [
        "#1\n",
        "\n",
        "import pandas as pd\n",
        "import pyspark\n",
        "import seaborn as sns\n",
        "from pyspark.sql import SparkSession\n",
        "from pyspark.sql.functions import mean, stddev, round as _round\n",
        "from matplotlib import pyplot as plt\n",
        "import seaborn as sns\n",
        "\n",
        "spark_session = SparkSession.builder.getOrCreate()\n",
        "\n",
        "df = spark_session.read.csv(\"https://drive.google.com/file/d/1eTEbn59Q6ZwVbSIeqtZwYgOeJkta1ipi/view?usp=sharing\")\n",
        "df.show()\n",
        "\n",
        "df2 = df.filter(\"_c2 > 4.7\")\n",
        "df2.select(mean(\"_c4\").alias(\"average price\")).show()"
      ],
      "execution_count": null,
      "outputs": []
    },
    {
      "cell_type": "code",
      "metadata": {
        "id": "kadeZr_oF5An"
      },
      "source": [
        "df=spark_session.read.option(\"header\",\"true\").csv(\"bestsellers with categories.csv\")\n",
        "df.show()\n",
        "df3 = df.select(\"Reviews\")\n",
        "df3.toPandas()[[\"Reviews\"]].astype('float64').hist(column = \"Reviews\")\n",
        "plt.show()"
      ],
      "execution_count": null,
      "outputs": []
    },
    {
      "cell_type": "code",
      "metadata": {
        "id": "BPg3hX6jGKtV"
      },
      "source": [
        "df=spark_session.read.option(\"header\",\"true\").csv(\"bestsellers with categories.csv\")\n",
        "df.show()\n",
        "df_matrix = df.select(\"User Rating\", \"Reviews\", \"Price\")\n",
        "df_matrix.show()"
      ],
      "execution_count": null,
      "outputs": []
    },
    {
      "cell_type": "code",
      "metadata": {
        "id": "ko31DZq_TT6O"
      },
      "source": [
        "df=spark_session.read.option(\"header\",\"true\").csv(\"bestsellers with categories.csv\")\n",
        "df.show()\n",
        "df_matrix = df.select(df[\"User Rating\"].astype('float'), df.Reviews.astype('float'), df.Price.astype('float'))\n",
        "df_matrix.show()\n",
        "df_matrix.toPandas().corr()\n",
        "df4 = df_matrix.toPandas()\n",
        "sns.pairplot(df4)\n",
        "plt.show()"
      ],
      "execution_count": null,
      "outputs": []
    },
    {
      "cell_type": "code",
      "metadata": {
        "id": "V8ZGXDipBY0s"
      },
      "source": [
        "#2\n",
        "df = spark_session.read.csv(\"bestsellers with categories.csv\")\n",
        "df.show()\n",
        "#Найдите автора с самым высоким рейтингом.\n",
        "df.createOrReplaceTempView(\"My_df\")\n",
        "spark_session.sql(\"Select _c1, max(_c2) From My_df Group By _c1 Order by max(_c2) desc \").show()\n",
        "\n",
        "#Найдите трех авторов с самым низким рейтингом.\n",
        "df.createOrReplaceTempView(\"My_df\")\n",
        "spark_session.sql(\"Select _c1, min(_c2) From My_df Group By _c1 Order by min(_c2) asc Limit 3\").show()\n",
        "\n",
        "#Определите какая книга жанра \"Fiction\" имеет самый маленький рейтинг.\n",
        "df.createOrReplaceTempView(\"My_df\")\n",
        "spark_session.sql(\"Select _c0, _c2, _c6 From My_df Where _c6 = 'Fiction' Order by _c2 asc\").show()\n",
        "\n",
        "#Определите какая книга жанра \"Non Fiction\" имеет самый высокий рейтинг.\n",
        "df.createOrReplaceTempView(\"My_df\")\n",
        "spark_session.sql(\"Select _c0, _c2, _c6 From My_df Where _c6 = 'Non Fiction' Order by _c2 desc\").show()\n"
      ],
      "execution_count": null,
      "outputs": []
    },
    {
      "cell_type": "code",
      "metadata": {
        "id": "_n_xvBMPBqcP"
      },
      "source": [
        "df=spark_session.read.option(\"header\",\"true\").csv(\"bestsellers with categories.csv\")\n",
        "df.show()\n",
        "\n",
        "#Определите какой автор получил наибольшее количество рецензий.\n",
        "df.createOrReplaceTempView(\"df3\")\n",
        "spark_session.sql(\"Select Author, Reviews From df3 Order by Reviews desc\").show()\n",
        "\n",
        "#Определите какой автор написал наибольшее количество книг за весь доступный в данных период.\n",
        "df.createOrReplaceTempView(\"My_df\")\n",
        "spark_session.sql(\"Select Author, count(Author) From My_df Group By Author\").show()\n"
      ],
      "execution_count": null,
      "outputs": []
    },
    {
      "cell_type": "code",
      "metadata": {
        "id": "g0YCZYQ9sLZx"
      },
      "source": [
        "#3\n",
        "\n",
        "import matplotlib.pyplot as plt\n",
        "import pandas as pd\n",
        "import pyspark\n",
        "from pyspark.sql import SparkSession\n",
        "import seaborn as sns\n",
        "\n",
        "spark_session = SparkSession.builder.getOrCreate()\n",
        "\n",
        "df=spark_session.read.option(\"header\",\"true\").csv(\"bestsellers with categories.csv\")\n",
        "df.show()\n",
        "\n",
        "df_avg = df.groupBy(\"Year\").agg({\"Reviews\": \"avg\"})\n",
        "df_avg.show()\n",
        "\n",
        "df_avg.toPandas().plot(x=\"Year\", y=\"avg(Reviews)\", kind = \"bar\")\n",
        "plt.show()\n",
        "\n"
      ],
      "execution_count": null,
      "outputs": []
    }
  ]
}