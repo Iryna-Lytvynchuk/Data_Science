{
  "nbformat": 4,
  "nbformat_minor": 0,
  "metadata": {
    "colab": {
      "name": "fashion_mnist_11hw.ipynb",
      "provenance": [],
      "collapsed_sections": [],
      "authorship_tag": "ABX9TyOsUltgbz4fqmX+4WYSRLpB",
      "include_colab_link": true
    },
    "kernelspec": {
      "display_name": "Python 3",
      "name": "python3"
    },
    "language_info": {
      "name": "python"
    }
  },
  "cells": [
    {
      "cell_type": "markdown",
      "metadata": {
        "id": "view-in-github",
        "colab_type": "text"
      },
      "source": [
        "<a href=\"https://colab.research.google.com/github/Iryna-Lytvynchuk/Data_Science/blob/main/fashion_mnist_11hw.ipynb\" target=\"_parent\"><img src=\"https://colab.research.google.com/assets/colab-badge.svg\" alt=\"Open In Colab\"/></a>"
      ]
    },
    {
      "cell_type": "code",
      "metadata": {
        "id": "1h08AN5ZEy18"
      },
      "source": [
        "import numpy as np\n",
        "from tensorflow import keras\n",
        "from keras import layers\n",
        "from keras import models\n",
        "from keras import optimizers\n",
        "from keras import losses\n",
        "from keras import metrics\n",
        "from keras import regularizers\n",
        "from tensorflow.keras.utils import to_categorical"
      ],
      "execution_count": 40,
      "outputs": []
    },
    {
      "cell_type": "code",
      "metadata": {
        "id": "4Ux8kThzE0QZ"
      },
      "source": [
        "fashion_mnist = keras.datasets.fashion_mnist\n",
        "(x_train,y_train),(x_test,y_test) = fashion_mnist.load_data()"
      ],
      "execution_count": 41,
      "outputs": []
    },
    {
      "cell_type": "code",
      "metadata": {
        "colab": {
          "base_uri": "https://localhost:8080/"
        },
        "id": "KImlTcAjPxUU",
        "outputId": "03a04a35-7543-470a-a0fc-16131b8997f1"
      },
      "source": [
        "print('Train: X=%s, y=%s' % (x_train.shape, y_train.shape))\n",
        "print('Test: X=%s, y=%s' % (x_test.shape, y_test.shape))"
      ],
      "execution_count": 42,
      "outputs": [
        {
          "output_type": "stream",
          "name": "stdout",
          "text": [
            "Train: X=(60000, 28, 28), y=(60000,)\n",
            "Test: X=(10000, 28, 28), y=(10000,)\n"
          ]
        }
      ]
    },
    {
      "cell_type": "code",
      "metadata": {
        "id": "FA3mryDWnt6h"
      },
      "source": [
        "x_train = x_train / 255.0\n",
        "x_test = x_test / 255.0"
      ],
      "execution_count": 43,
      "outputs": []
    },
    {
      "cell_type": "code",
      "metadata": {
        "id": "lldLKLdj1Qbq"
      },
      "source": [
        "model = models.Sequential([\n",
        "    layers.Conv2D(32, (3, 3), kernel_regularizer = regularizers.l2(0.001), activation=\"relu\", input_shape=(28, 28, 1)),\n",
        "    layers.MaxPooling2D((2, 2)),\n",
        "\n",
        "    layers.Conv2D(64, (3, 3), kernel_regularizer = regularizers.l2(0.001), activation=\"relu\"),\n",
        "    layers.MaxPooling2D((2, 2)),\n",
        "\n",
        "    layers.Conv2D(128, (3, 3), kernel_regularizer = regularizers.l2(0.001), activation=\"relu\"),\n",
        "\n",
        "    layers.Flatten(),\n",
        "    layers.Dense(64, kernel_regularizer = regularizers.l2(0.001), activation=\"relu\"),\n",
        "    layers.Dense(10, activation=\"softmax\")\n",
        "])\n",
        "model.compile(optimizer='adam',\n",
        "              loss='sparse_categorical_crossentropy',\n",
        "              metrics=['accuracy'])"
      ],
      "execution_count": 44,
      "outputs": []
    },
    {
      "cell_type": "code",
      "metadata": {
        "colab": {
          "base_uri": "https://localhost:8080/"
        },
        "id": "4Y0aXKSIFOJU",
        "outputId": "330901bc-cd34-4f77-9b69-6222809938c4"
      },
      "source": [
        "model.summary()"
      ],
      "execution_count": 45,
      "outputs": [
        {
          "output_type": "stream",
          "name": "stdout",
          "text": [
            "Model: \"sequential_10\"\n",
            "_________________________________________________________________\n",
            " Layer (type)                Output Shape              Param #   \n",
            "=================================================================\n",
            " conv2d_35 (Conv2D)          (None, 26, 26, 32)        320       \n",
            "                                                                 \n",
            " max_pooling2d_31 (MaxPoolin  (None, 13, 13, 32)       0         \n",
            " g2D)                                                            \n",
            "                                                                 \n",
            " conv2d_36 (Conv2D)          (None, 11, 11, 64)        18496     \n",
            "                                                                 \n",
            " max_pooling2d_32 (MaxPoolin  (None, 5, 5, 64)         0         \n",
            " g2D)                                                            \n",
            "                                                                 \n",
            " conv2d_37 (Conv2D)          (None, 3, 3, 128)         73856     \n",
            "                                                                 \n",
            " flatten_10 (Flatten)        (None, 1152)              0         \n",
            "                                                                 \n",
            " dense_21 (Dense)            (None, 64)                73792     \n",
            "                                                                 \n",
            " dense_22 (Dense)            (None, 10)                650       \n",
            "                                                                 \n",
            "=================================================================\n",
            "Total params: 167,114\n",
            "Trainable params: 167,114\n",
            "Non-trainable params: 0\n",
            "_________________________________________________________________\n"
          ]
        }
      ]
    },
    {
      "cell_type": "code",
      "metadata": {
        "colab": {
          "base_uri": "https://localhost:8080/"
        },
        "id": "kTKoEOD1FnW8",
        "outputId": "2b73606c-7a37-4257-de8c-8f81f4295a9f"
      },
      "source": [
        "history = model.fit(x_train, y_train, epochs=20, validation_split=0.2, batch_size=64)\n",
        "\n",
        "results = model.evaluate(x_test, y_test)\n",
        "print(results)"
      ],
      "execution_count": 46,
      "outputs": [
        {
          "output_type": "stream",
          "name": "stdout",
          "text": [
            "Epoch 1/20\n",
            "750/750 [==============================] - 44s 58ms/step - loss: 0.7503 - accuracy: 0.7764 - val_loss: 0.5668 - val_accuracy: 0.8464\n",
            "Epoch 2/20\n",
            "750/750 [==============================] - 44s 58ms/step - loss: 0.5229 - accuracy: 0.8562 - val_loss: 0.5220 - val_accuracy: 0.8479\n",
            "Epoch 3/20\n",
            "750/750 [==============================] - 44s 58ms/step - loss: 0.4761 - accuracy: 0.8704 - val_loss: 0.4881 - val_accuracy: 0.8675\n",
            "Epoch 4/20\n",
            "750/750 [==============================] - 43s 58ms/step - loss: 0.4441 - accuracy: 0.8783 - val_loss: 0.4750 - val_accuracy: 0.8681\n",
            "Epoch 5/20\n",
            "750/750 [==============================] - 43s 58ms/step - loss: 0.4249 - accuracy: 0.8849 - val_loss: 0.4614 - val_accuracy: 0.8729\n",
            "Epoch 6/20\n",
            "750/750 [==============================] - 43s 58ms/step - loss: 0.4123 - accuracy: 0.8884 - val_loss: 0.4320 - val_accuracy: 0.8817\n",
            "Epoch 7/20\n",
            "750/750 [==============================] - 43s 58ms/step - loss: 0.4016 - accuracy: 0.8920 - val_loss: 0.4259 - val_accuracy: 0.8798\n",
            "Epoch 8/20\n",
            "750/750 [==============================] - 43s 57ms/step - loss: 0.3925 - accuracy: 0.8959 - val_loss: 0.4008 - val_accuracy: 0.8885\n",
            "Epoch 9/20\n",
            "750/750 [==============================] - 43s 58ms/step - loss: 0.3871 - accuracy: 0.8966 - val_loss: 0.4080 - val_accuracy: 0.8906\n",
            "Epoch 10/20\n",
            "750/750 [==============================] - 43s 58ms/step - loss: 0.3788 - accuracy: 0.8975 - val_loss: 0.4208 - val_accuracy: 0.8847\n",
            "Epoch 11/20\n",
            "750/750 [==============================] - 43s 57ms/step - loss: 0.3715 - accuracy: 0.9030 - val_loss: 0.4014 - val_accuracy: 0.8907\n",
            "Epoch 12/20\n",
            "750/750 [==============================] - 43s 57ms/step - loss: 0.3682 - accuracy: 0.9028 - val_loss: 0.4108 - val_accuracy: 0.8858\n",
            "Epoch 13/20\n",
            "750/750 [==============================] - 43s 58ms/step - loss: 0.3646 - accuracy: 0.9026 - val_loss: 0.3837 - val_accuracy: 0.8979\n",
            "Epoch 14/20\n",
            "750/750 [==============================] - 43s 57ms/step - loss: 0.3577 - accuracy: 0.9075 - val_loss: 0.3800 - val_accuracy: 0.9012\n",
            "Epoch 15/20\n",
            "750/750 [==============================] - 43s 57ms/step - loss: 0.3558 - accuracy: 0.9074 - val_loss: 0.3892 - val_accuracy: 0.8947\n",
            "Epoch 16/20\n",
            "750/750 [==============================] - 43s 57ms/step - loss: 0.3535 - accuracy: 0.9079 - val_loss: 0.3791 - val_accuracy: 0.9007\n",
            "Epoch 17/20\n",
            "750/750 [==============================] - 43s 57ms/step - loss: 0.3467 - accuracy: 0.9101 - val_loss: 0.3735 - val_accuracy: 0.8967\n",
            "Epoch 18/20\n",
            "750/750 [==============================] - 43s 57ms/step - loss: 0.3421 - accuracy: 0.9124 - val_loss: 0.3906 - val_accuracy: 0.8946\n",
            "Epoch 19/20\n",
            "750/750 [==============================] - 43s 57ms/step - loss: 0.3403 - accuracy: 0.9126 - val_loss: 0.3783 - val_accuracy: 0.8993\n",
            "Epoch 20/20\n",
            "750/750 [==============================] - 43s 57ms/step - loss: 0.3364 - accuracy: 0.9139 - val_loss: 0.3632 - val_accuracy: 0.9012\n",
            "313/313 [==============================] - 3s 9ms/step - loss: 0.3748 - accuracy: 0.9002\n",
            "[0.3748098313808441, 0.9002000093460083]\n"
          ]
        }
      ]
    },
    {
      "cell_type": "code",
      "metadata": {
        "colab": {
          "base_uri": "https://localhost:8080/",
          "height": 591
        },
        "id": "nK-P4q96pLTx",
        "outputId": "df685f22-b239-4f6a-f4f9-019c709a963e"
      },
      "source": [
        "import matplotlib.pyplot as plt\n",
        "\n",
        "\n",
        "history_dict = history.history\n",
        "loss_values = history_dict['loss']\n",
        "val_loss_values = history_dict['val_loss']\n",
        "\n",
        "epochs = range(1, len(history_dict['accuracy']) + 1)\n",
        "\n",
        "plt.plot(epochs, loss_values, 'bo', label='Training loss')\n",
        "plt.plot(epochs, val_loss_values, 'b', label='Validation loss')\n",
        "plt.title('Training and validation loss')\n",
        "plt.xlabel('Epochs')\n",
        "plt.ylabel('Loss')\n",
        "plt.legend()\n",
        "plt.show()\n",
        "\n",
        "plt.clf()\n",
        "val_acc_values = history_dict['val_accuracy']\n",
        "plt.plot(epochs, history_dict['accuracy'], 'bo', label='Training acc')\n",
        "plt.plot(epochs, history_dict['val_accuracy'], 'b', label='Validation acc')\n",
        "plt.title('Training and validation accuracy')\n",
        "plt.xlabel('Epochs')\n",
        "plt.ylabel('Loss')\n",
        "plt.legend()"
      ],
      "execution_count": 47,
      "outputs": [
        {
          "output_type": "display_data",
          "data": {
            "image/png": "[encoded data removed]",
            "text/plain": [
              "<Figure size 432x288 with 1 Axes>"
            ]
          },
          "metadata": {
            "needs_background": "light"
          }
        },
        {
          "output_type": "execute_result",
          "data": {
            "text/plain": [
              "<matplotlib.legend.Legend at 0x7f48d488b150>"
            ]
          },
          "metadata": {},
          "execution_count": 47
        },
        {
          "output_type": "display_data",
          "data": {
            "image/png": "[encoded data removed]",
            "text/plain": [
              "<Figure size 432x288 with 1 Axes>"
            ]
          },
          "metadata": {
            "needs_background": "light"
          }
        }
      ]
    }
  ]
}