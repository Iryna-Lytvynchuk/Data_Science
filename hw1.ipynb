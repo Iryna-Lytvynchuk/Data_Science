{
  "nbformat": 4,
  "nbformat_minor": 0,
  "metadata": {
    "colab": {
      "name": "Data_Science.ipynb",
      "provenance": [],
      "collapsed_sections": [],
      "toc_visible": true,
      "authorship_tag": "ABX9TyMzrJM2iPaKczu34HvvhR7J",
      "include_colab_link": true
    },
    "kernelspec": {
      "display_name": "Python 3",
      "name": "python3"
    },
    "language_info": {
      "name": "python"
    }
  },
  "cells": [
    {
      "cell_type": "markdown",
      "metadata": {
        "id": "view-in-github",
        "colab_type": "text"
      },
      "source": [
        "<a href=\"https://colab.research.google.com/github/Iryna-Lytvynchuk/Data_Science/blob/main/hw1.ipynb\" target=\"_parent\"><img src=\"https://colab.research.google.com/assets/colab-badge.svg\" alt=\"Open In Colab\"/></a>"
      ]
    },
    {
      "cell_type": "markdown",
      "metadata": {
        "id": "v7MLtBrevjey"
      },
      "source": [
        "# 1_homework"
      ]
    },
    {
      "cell_type": "code",
      "metadata": {
        "colab": {
          "base_uri": "https://localhost:8080/"
        },
        "id": "ap02-J7Ispjn",
        "outputId": "5e19fd0d-599c-4651-a91a-97517f0a8896"
      },
      "source": [
        "#Task1\n",
        "#v1\n",
        "import numpy as np\n",
        "a = np.matrix(\"0.05,0.07,0;0.05,0,0.06;1,1,1\")\n",
        "b = np.matrix(\"2250;1400;50000\")\n",
        "a_inv = np.linalg.inv(a)\n",
        "x = a_inv.dot(b)\n",
        "print(x)\n",
        "#v2\n",
        "k = np.linalg.solve(a,b)\n",
        "print(k)"
      ],
      "execution_count": null,
      "outputs": [
        {
          "output_type": "stream",
          "name": "stdout",
          "text": [
            "[[10000.]\n",
            " [25000.]\n",
            " [15000.]]\n",
            "[[10000.]\n",
            " [25000.]\n",
            " [15000.]]\n"
          ]
        }
      ]
    },
    {
      "cell_type": "code",
      "metadata": {
        "colab": {
          "base_uri": "https://localhost:8080/"
        },
        "id": "i_0IbRcel4Ty",
        "outputId": "488b1bb2-6d68-459e-b13e-403cebf6f211"
      },
      "source": [
        "#v3\n",
        "a = np.matrix(\"0.05,0.07,0;0.05,0,0.06;1,1,1\")\n",
        "b = np.matrix(\"2250;1400;50000\")\n",
        "a_det = np.linalg.det(a)\n",
        "a_1 = np.matrix(a)\n",
        "a_1[:,0] = b\n",
        "a_2 = np.matrix(a)\n",
        "a_2[:,1] = b\n",
        "a_3 = np.matrix(a)\n",
        "a_3[:,2] = b\n",
        "x = [\n",
        "     round((np.linalg.det(a_1))/a_det,),\n",
        "     round((np.linalg.det(a_2))/a_det,),\n",
        "     round((np.linalg.det(a_3))/a_det,),\n",
        "]\n",
        "print(x)"
      ],
      "execution_count": null,
      "outputs": [
        {
          "name": "stdout",
          "output_type": "stream",
          "text": [
            "[10000, 25000, 15000]\n"
          ]
        }
      ]
    },
    {
      "cell_type": "code",
      "metadata": {
        "colab": {
          "base_uri": "https://localhost:8080/"
        },
        "id": "CUSXSdSF0HgT",
        "outputId": "6ecbf558-6d13-4c3f-b827-35d9c53e5d9f"
      },
      "source": [
        "#Task2\n",
        "a = np.matrix(\"1,-1,0;1,0,-1;1,1,1\")\n",
        "b = np.matrix(\"-120;100;1328\")\n",
        "a_inv = np.linalg.inv(a)\n",
        "x = a_inv.dot(b)\n",
        "print(x)\n"
      ],
      "execution_count": null,
      "outputs": [
        {
          "name": "stdout",
          "output_type": "stream",
          "text": [
            "[[436.]\n",
            " [556.]\n",
            " [336.]]\n"
          ]
        }
      ]
    },
    {
      "cell_type": "code",
      "metadata": {
        "colab": {
          "base_uri": "https://localhost:8080/"
        },
        "id": "h_HgcnvB2JzG",
        "outputId": "364c9266-fee8-444f-80ed-fbeffb7e24eb"
      },
      "source": [
        "#Task3\n",
        "import itertools\n",
        "a = np.matrix(\"3,0,3;6,0.25,0;1,0.333,1\")\n",
        "b = np.matrix(\"1;1;1\")\n",
        "a_inv = np.linalg.inv(a)\n",
        "a_in_2, b_in_2, c_in_2 = 1/a_inv.dot(b)\n",
        "print(f'a^2={a_in_2[0,0]}, b^2={b_in_2[0,0]}, c^2={c_in_2[0,0]}')\n",
        "\n",
        "x = np.sqrt(a_inv.dot(b))\n",
        "a_1 = [1/x[0,0]]\n",
        "a_2 = [-1/x[0,0]]\n",
        "a = a_1 + a_2\n",
        "b_1 = [1/x[1,0]]\n",
        "b_2 = [-1/x[1,0]]\n",
        "b = b_1 + b_2\n",
        "c_1 = [1/x[2,0]]\n",
        "c_2 = [-1/x[2,0]]\n",
        "c = c_1 + c_2\n",
        "print(a)\n",
        "print(b)\n",
        "print(c)\n",
        "k = list(itertools.product(a,b,c))\n",
        "print(k)\n",
        "       \n"
      ],
      "execution_count": null,
      "outputs": [
        {
          "name": "stdout",
          "output_type": "stream",
          "text": [
            "a^2=12.012024048096194, b^2=0.49949999999999994, c^2=3.9986657771847893\n",
            "[3.465836702456738, -3.465836702456738]\n",
            "[0.7067531393633847, -0.7067531393633847]\n",
            "[1.9996664164767055, -1.9996664164767055]\n",
            "[(3.465836702456738, 0.7067531393633847, 1.9996664164767055), (3.465836702456738, 0.7067531393633847, -1.9996664164767055), (3.465836702456738, -0.7067531393633847, 1.9996664164767055), (3.465836702456738, -0.7067531393633847, -1.9996664164767055), (-3.465836702456738, 0.7067531393633847, 1.9996664164767055), (-3.465836702456738, 0.7067531393633847, -1.9996664164767055), (-3.465836702456738, -0.7067531393633847, 1.9996664164767055), (-3.465836702456738, -0.7067531393633847, -1.9996664164767055)]\n"
          ]
        }
      ]
    },
    {
      "cell_type": "code",
      "metadata": {
        "colab": {
          "base_uri": "https://localhost:8080/"
        },
        "id": "8NRimd7o0U6G",
        "outputId": "88d4f9e5-ea6d-4246-dab7-5ddcdcf9db60"
      },
      "source": [
        "#Task4\n",
        "a = np.matrix(\"1,1,1;9,3,1;1,-1,1\")\n",
        "b = np.matrix(\"12;54;2\")\n",
        "a_inv = np.linalg.inv(a)\n",
        "x = a_inv.dot(b)\n",
        "print(x)"
      ],
      "execution_count": null,
      "outputs": [
        {
          "output_type": "stream",
          "name": "stdout",
          "text": [
            "[[4.]\n",
            " [5.]\n",
            " [3.]]\n"
          ]
        }
      ]
    },
    {
      "cell_type": "code",
      "metadata": {
        "colab": {
          "base_uri": "https://localhost:8080/"
        },
        "id": "8Xcesv6JPMP0",
        "outputId": "1c84f726-0401-4a94-946f-755d3cba7c39"
      },
      "source": [
        "#Task5\n",
        "def get_polynom(coords):\n",
        "    a = ''\n",
        "    b = ''\n",
        "    for x,y in coords:\n",
        "        a += str(x**2) + ',' + str(x) + ',1;'\n",
        "        b += str(y)+';'\n",
        "    print(a[:-1])\n",
        "    print(b[:-1])\n",
        "    a = np.matrix(a[:-1])\n",
        "    b = np.matrix(b[:-1])\n",
        "    print(f'a={a}')\n",
        "    print(f'b={b}')\n",
        "    return np.linalg.solve(a,b)\n",
        "c = get_polynom(((1,12),(3,54),(-1,2)))\n",
        "print(f'\\n{c}')"
      ],
      "execution_count": null,
      "outputs": [
        {
          "output_type": "stream",
          "name": "stdout",
          "text": [
            "1,1,1;9,3,1;1,-1,1\n",
            "12;54;2\n",
            "a=[[ 1  1  1]\n",
            " [ 9  3  1]\n",
            " [ 1 -1  1]]\n",
            "b=[[12]\n",
            " [54]\n",
            " [ 2]]\n",
            "\n",
            "[[4.]\n",
            " [5.]\n",
            " [3.]]\n"
          ]
        }
      ]
    },
    {
      "cell_type": "code",
      "metadata": {
        "colab": {
          "base_uri": "https://localhost:8080/"
        },
        "id": "8DSoyxQo5dMy",
        "outputId": "925627a5-b14c-4691-e54f-8f92e929eefc"
      },
      "source": [
        "#Task5\n",
        "def get_polynom(coords):\n",
        "    a = ''\n",
        "    b = ''\n",
        "    for x,y in coords:\n",
        "        a += str(x**2) + ',' + str(x) + ',1;'\n",
        "        b += str(y)+';'\n",
        "    print(a[:-1])\n",
        "    print(b[:-1])\n",
        "    a = np.matrix(a[:-1])\n",
        "    b = np.matrix(b[:-1])\n",
        "    print(f'a={a}')\n",
        "    print(f'b={b}')\n",
        "    return np.linalg.lstsq(a, b, rcond=None)[0]\n",
        "c = get_polynom(((1,12),(3,54),(-1,2)))\n",
        "print(f'\\n{c}')"
      ],
      "execution_count": null,
      "outputs": [
        {
          "output_type": "stream",
          "name": "stdout",
          "text": [
            "1,1,1;9,3,1;1,-1,1\n",
            "12;54;2\n",
            "a=[[ 1  1  1]\n",
            " [ 9  3  1]\n",
            " [ 1 -1  1]]\n",
            "b=[[12]\n",
            " [54]\n",
            " [ 2]]\n",
            "\n",
            "[[4.]\n",
            " [5.]\n",
            " [3.]]\n"
          ]
        }
      ]
    },
    {
      "cell_type": "code",
      "metadata": {
        "colab": {
          "base_uri": "https://localhost:8080/"
        },
        "id": "VmMuRGY0yNFM",
        "outputId": "9ab5c414-5a6c-4dbd-c217-ec5090d94459"
      },
      "source": [
        "#Task5\n",
        "import numpy as np\n",
        "import scipy.sparse\n",
        "import scipy.sparse.linalg\n",
        "\n",
        "def get_polynom(coords):\n",
        "    a = ''\n",
        "    b = ''\n",
        "    for x,y in coords:\n",
        "        a += str(x**2) + ',' + str(x) + ',1;'\n",
        "        b += str(y)+';'\n",
        "    a = scipy.sparse.csr_matrix(np.matrix(a[:-1]))\n",
        "    b = scipy.sparse.csr_matrix(np.matrix(b[:-1]))\n",
        "    return scipy.sparse.linalg.spsolve(a, b)\n",
        "\n",
        "c = get_polynom(((1,12),(3,54),(-1,2)))\n",
        "print(f'\\n{c}')"
      ],
      "execution_count": null,
      "outputs": [
        {
          "output_type": "stream",
          "name": "stdout",
          "text": [
            "\n",
            "[4. 5. 3.]\n"
          ]
        }
      ]
    }
  ]
}