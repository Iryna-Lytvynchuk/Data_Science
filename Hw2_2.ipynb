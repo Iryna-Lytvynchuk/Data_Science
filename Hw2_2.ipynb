{
  "nbformat": 4,
  "nbformat_minor": 0,
  "metadata": {
    "colab": {
      "name": "Hw2.2.ipynb",
      "provenance": [],
      "collapsed_sections": [],
      "authorship_tag": "ABX9TyNfHo9OyaWyfwAyPLzohx83",
      "include_colab_link": true
    },
    "kernelspec": {
      "display_name": "Python 3",
      "name": "python3"
    },
    "language_info": {
      "name": "python"
    }
  },
  "cells": [
    {
      "cell_type": "markdown",
      "metadata": {
        "id": "view-in-github",
        "colab_type": "text"
      },
      "source": [
        "<a href=\"https://colab.research.google.com/github/Iryna-Lytvynchuk/Data_Science/blob/main/Hw2_2.ipynb\" target=\"_parent\"><img src=\"https://colab.research.google.com/assets/colab-badge.svg\" alt=\"Open In Colab\"/></a>"
      ]
    },
    {
      "cell_type": "code",
      "metadata": {
        "colab": {
          "base_uri": "https://localhost:8080/"
        },
        "id": "InlvXMciJy2n",
        "outputId": "b98493e6-89fa-4f9b-90e4-e3f090fd181e"
      },
      "source": [
        "import pandas as pd\n",
        "\n",
        "fl = pd.read_csv(\"https://drive.google.com/uc?export=download&id=1JMYqXipZpz9Y5-vyxvLEO2Y1sRBxqu-U\")\n",
        "\n",
        "print(fl)"
      ],
      "execution_count": null,
      "outputs": [
        {
          "output_type": "stream",
          "name": "stdout",
          "text": [
            "         N                 Должность Язык.программирования  ... salary Валюта  cls\n",
            "0        1        Junior QA engineer                   NaN  ...    400    NaN   QA\n",
            "1        2        Junior QA engineer                   NaN  ...    430    NaN   QA\n",
            "2        3         Software Engineer               C#/.NET  ...   2500    NaN  DEV\n",
            "3        4         Software Engineer            JavaScript  ...   2000    NaN  DEV\n",
            "4        5  Senior Software Engineer            JavaScript  ...   4500    NaN  DEV\n",
            "...    ...                       ...                   ...  ...    ...    ...  ...\n",
            "8699  8700               QA engineer                   NaN  ...    700    NaN   QA\n",
            "8700  8701                 Marketing                   NaN  ...    400    NaN  NaN\n",
            "8701  8702  Junior Software Engineer            Ruby/Rails  ...    800    NaN  DEV\n",
            "8702  8703                 Team lead                   NaN  ...   2600    NaN   PM\n",
            "8703  8704  Senior Software Engineer                  Java  ...   5000    NaN  DEV\n",
            "\n",
            "[8704 rows x 25 columns]\n"
          ]
        }
      ]
    },
    {
      "cell_type": "code",
      "metadata": {
        "id": "duNhur-6Kv66",
        "colab": {
          "base_uri": "https://localhost:8080/"
        },
        "outputId": "d5b9291b-416f-404d-903c-e8e0310c0d59"
      },
      "source": [
        "print(fl.head(10))"
      ],
      "execution_count": null,
      "outputs": [
        {
          "output_type": "stream",
          "name": "stdout",
          "text": [
            "    N                 Должность Язык.программирования  ... salary Валюта  cls\n",
            "0   1        Junior QA engineer                   NaN  ...    400    NaN   QA\n",
            "1   2        Junior QA engineer                   NaN  ...    430    NaN   QA\n",
            "2   3         Software Engineer               C#/.NET  ...   2500    NaN  DEV\n",
            "3   4         Software Engineer            JavaScript  ...   2000    NaN  DEV\n",
            "4   5  Senior Software Engineer            JavaScript  ...   4500    NaN  DEV\n",
            "5   6           Project manager                   NaN  ...    400    NaN   PM\n",
            "6   7  Junior Software Engineer               C#/.NET  ...    600    NaN  DEV\n",
            "7   8  Senior Software Engineer                   C++  ...   3300    NaN  DEV\n",
            "8   9  Junior Software Engineer                  Java  ...    550    NaN  DEV\n",
            "9  10                  Sysadmin                   NaN  ...    520    NaN  NaN\n",
            "\n",
            "[10 rows x 25 columns]\n"
          ]
        }
      ]
    },
    {
      "cell_type": "code",
      "metadata": {
        "colab": {
          "base_uri": "https://localhost:8080/"
        },
        "id": "G222_RG1Og32",
        "outputId": "1454a8d0-5a7c-4c46-dfbb-5633e2a9840b"
      },
      "source": [
        "fl.shape"
      ],
      "execution_count": null,
      "outputs": [
        {
          "output_type": "execute_result",
          "data": {
            "text/plain": [
              "(8704, 25)"
            ]
          },
          "metadata": {},
          "execution_count": 39
        }
      ]
    },
    {
      "cell_type": "code",
      "metadata": {
        "colab": {
          "base_uri": "https://localhost:8080/"
        },
        "id": "ntOaRKDmOwFK",
        "outputId": "18f801fe-330a-4ec9-c453-710ffdd5b041"
      },
      "source": [
        "fl.dtypes"
      ],
      "execution_count": null,
      "outputs": [
        {
          "output_type": "execute_result",
          "data": {
            "text/plain": [
              "N                                     int64\n",
              "Должность                            object\n",
              "Язык.программирования                object\n",
              "Специализация                        object\n",
              "Общий.опыт.работы                    object\n",
              "Опыт.работы.на.текущем.месте         object\n",
              "Зарплата.в.месяц                      int64\n",
              "Изменение.зарплаты.за.12.месяцев      int64\n",
              "Город                                object\n",
              "Размер.компании                      object\n",
              "Тип.компании                         object\n",
              "Пол                                  object\n",
              "Возраст                               int64\n",
              "Образование                          object\n",
              "Университет                          object\n",
              "Еще.студент                            bool\n",
              "Уровень.английского                  object\n",
              "Предметная.область                   object\n",
              "Дата.заполнения                      object\n",
              "User.Agent                           object\n",
              "exp                                 float64\n",
              "current_job_exp                     float64\n",
              "salary                                int64\n",
              "Валюта                               object\n",
              "cls                                  object\n",
              "dtype: object"
            ]
          },
          "metadata": {},
          "execution_count": 40
        }
      ]
    },
    {
      "cell_type": "code",
      "metadata": {
        "colab": {
          "base_uri": "https://localhost:8080/"
        },
        "id": "oNaXu5OVO3BY",
        "outputId": "3c343526-5d3f-4012-edf7-ffba3f248077"
      },
      "source": [
        "print(fl\n",
        " .isnull()\n",
        " .sum()\n",
        ")"
      ],
      "execution_count": null,
      "outputs": [
        {
          "output_type": "stream",
          "name": "stdout",
          "text": [
            "N                                      0\n",
            "Должность                              0\n",
            "Язык.программирования               3850\n",
            "Специализация                       7219\n",
            "Общий.опыт.работы                      0\n",
            "Опыт.работы.на.текущем.месте           0\n",
            "Зарплата.в.месяц                       0\n",
            "Изменение.зарплаты.за.12.месяцев       0\n",
            "Город                                  0\n",
            "Размер.компании                        0\n",
            "Тип.компании                           0\n",
            "Пол                                    0\n",
            "Возраст                                0\n",
            "Образование                            0\n",
            "Университет                          358\n",
            "Еще.студент                            0\n",
            "Уровень.английского                    0\n",
            "Предметная.область                   223\n",
            "Дата.заполнения                        0\n",
            "User.Agent                             0\n",
            "exp                                    0\n",
            "current_job_exp                        0\n",
            "salary                                 0\n",
            "Валюта                              8694\n",
            "cls                                 1574\n",
            "dtype: int64\n"
          ]
        }
      ]
    },
    {
      "cell_type": "code",
      "metadata": {
        "colab": {
          "base_uri": "https://localhost:8080/"
        },
        "id": "vbQSFQ-TT4yg",
        "outputId": "597dc024-909e-4b1d-caaf-bf8c3a5bbf53"
      },
      "source": [
        "df = fl.dropna(axis=1)\n",
        "df['Язык.программирования'] = fl['Язык.программирования']\n",
        "print(df)"
      ],
      "execution_count": null,
      "outputs": [
        {
          "output_type": "stream",
          "name": "stdout",
          "text": [
            "         N                 Должность  ... salary Язык.программирования\n",
            "0        1        Junior QA engineer  ...    400                   NaN\n",
            "1        2        Junior QA engineer  ...    430                   NaN\n",
            "2        3         Software Engineer  ...   2500               C#/.NET\n",
            "3        4         Software Engineer  ...   2000            JavaScript\n",
            "4        5  Senior Software Engineer  ...   4500            JavaScript\n",
            "...    ...                       ...  ...    ...                   ...\n",
            "8699  8700               QA engineer  ...    700                   NaN\n",
            "8700  8701                 Marketing  ...    400                   NaN\n",
            "8701  8702  Junior Software Engineer  ...    800            Ruby/Rails\n",
            "8702  8703                 Team lead  ...   2600                   NaN\n",
            "8703  8704  Senior Software Engineer  ...   5000                  Java\n",
            "\n",
            "[8704 rows x 20 columns]\n"
          ]
        },
        {
          "output_type": "stream",
          "name": "stderr",
          "text": [
            "/usr/local/lib/python3.7/dist-packages/ipykernel_launcher.py:2: SettingWithCopyWarning: \n",
            "A value is trying to be set on a copy of a slice from a DataFrame.\n",
            "Try using .loc[row_indexer,col_indexer] = value instead\n",
            "\n",
            "See the caveats in the documentation: https://pandas.pydata.org/pandas-docs/stable/user_guide/indexing.html#returning-a-view-versus-a-copy\n",
            "  \n"
          ]
        }
      ]
    },
    {
      "cell_type": "code",
      "metadata": {
        "colab": {
          "base_uri": "https://localhost:8080/"
        },
        "id": "nBbS66AIXzfV",
        "outputId": "0465ad2c-c95d-4509-a886-48950a5e2e74"
      },
      "source": [
        "print(df\n",
        " .isnull()\n",
        " .sum()\n",
        ")"
      ],
      "execution_count": null,
      "outputs": [
        {
          "output_type": "stream",
          "name": "stdout",
          "text": [
            "N                                      0\n",
            "Должность                              0\n",
            "Общий.опыт.работы                      0\n",
            "Опыт.работы.на.текущем.месте           0\n",
            "Зарплата.в.месяц                       0\n",
            "Изменение.зарплаты.за.12.месяцев       0\n",
            "Город                                  0\n",
            "Размер.компании                        0\n",
            "Тип.компании                           0\n",
            "Пол                                    0\n",
            "Возраст                                0\n",
            "Образование                            0\n",
            "Еще.студент                            0\n",
            "Уровень.английского                    0\n",
            "Дата.заполнения                        0\n",
            "User.Agent                             0\n",
            "exp                                    0\n",
            "current_job_exp                        0\n",
            "salary                                 0\n",
            "Язык.программирования               3850\n",
            "dtype: int64\n"
          ]
        }
      ]
    },
    {
      "cell_type": "code",
      "metadata": {
        "colab": {
          "base_uri": "https://localhost:8080/",
          "height": 881
        },
        "id": "xc4jJhsygxMp",
        "outputId": "e25fb647-446c-4c38-978a-25ea343e1cee"
      },
      "source": [
        "df = df.dropna()\n",
        "df"
      ],
      "execution_count": null,
      "outputs": [
        {
          "output_type": "execute_result",
          "data": {
            "text/html": [
              "<div>\n",
              "<style scoped>\n",
              "    .dataframe tbody tr th:only-of-type {\n",
              "        vertical-align: middle;\n",
              "    }\n",
              "\n",
              "    .dataframe tbody tr th {\n",
              "        vertical-align: top;\n",
              "    }\n",
              "\n",
              "    .dataframe thead th {\n",
              "        text-align: right;\n",
              "    }\n",
              "</style>\n",
              "<table border=\"1\" class=\"dataframe\">\n",
              "  <thead>\n",
              "    <tr style=\"text-align: right;\">\n",
              "      <th></th>\n",
              "      <th>N</th>\n",
              "      <th>Должность</th>\n",
              "      <th>Общий.опыт.работы</th>\n",
              "      <th>Опыт.работы.на.текущем.месте</th>\n",
              "      <th>Зарплата.в.месяц</th>\n",
              "      <th>Изменение.зарплаты.за.12.месяцев</th>\n",
              "      <th>Город</th>\n",
              "      <th>Размер.компании</th>\n",
              "      <th>Тип.компании</th>\n",
              "      <th>Пол</th>\n",
              "      <th>Возраст</th>\n",
              "      <th>Образование</th>\n",
              "      <th>Еще.студент</th>\n",
              "      <th>Уровень.английского</th>\n",
              "      <th>Дата.заполнения</th>\n",
              "      <th>User.Agent</th>\n",
              "      <th>exp</th>\n",
              "      <th>current_job_exp</th>\n",
              "      <th>salary</th>\n",
              "      <th>Язык.программирования</th>\n",
              "    </tr>\n",
              "  </thead>\n",
              "  <tbody>\n",
              "    <tr>\n",
              "      <th>2</th>\n",
              "      <td>3</td>\n",
              "      <td>Software Engineer</td>\n",
              "      <td>4</td>\n",
              "      <td>1</td>\n",
              "      <td>2500</td>\n",
              "      <td>800</td>\n",
              "      <td>Киев</td>\n",
              "      <td>до 1000 человек</td>\n",
              "      <td>Аутсорсинговая</td>\n",
              "      <td>мужской</td>\n",
              "      <td>26</td>\n",
              "      <td>Высшее</td>\n",
              "      <td>False</td>\n",
              "      <td>средний</td>\n",
              "      <td>12/06/2017 13:02:47</td>\n",
              "      <td>Mozilla/5.0 (Windows NT 10.0; Win64; x64) Appl...</td>\n",
              "      <td>4.0</td>\n",
              "      <td>1.0</td>\n",
              "      <td>2500</td>\n",
              "      <td>C#/.NET</td>\n",
              "    </tr>\n",
              "    <tr>\n",
              "      <th>3</th>\n",
              "      <td>4</td>\n",
              "      <td>Software Engineer</td>\n",
              "      <td>5</td>\n",
              "      <td>4</td>\n",
              "      <td>2000</td>\n",
              "      <td>400</td>\n",
              "      <td>Одесса</td>\n",
              "      <td>до 200 человек</td>\n",
              "      <td>Продуктовая</td>\n",
              "      <td>мужской</td>\n",
              "      <td>30</td>\n",
              "      <td>Среднее</td>\n",
              "      <td>False</td>\n",
              "      <td>ниже среднего</td>\n",
              "      <td>12/06/2017 13:03:01</td>\n",
              "      <td>Mozilla/5.0 (Windows NT 6.1; Win64; x64) Apple...</td>\n",
              "      <td>5.0</td>\n",
              "      <td>4.0</td>\n",
              "      <td>2000</td>\n",
              "      <td>JavaScript</td>\n",
              "    </tr>\n",
              "    <tr>\n",
              "      <th>4</th>\n",
              "      <td>5</td>\n",
              "      <td>Senior Software Engineer</td>\n",
              "      <td>10 и более лет</td>\n",
              "      <td>0.5</td>\n",
              "      <td>4500</td>\n",
              "      <td>500</td>\n",
              "      <td>Другой</td>\n",
              "      <td>до 10 человек</td>\n",
              "      <td>Продуктовая</td>\n",
              "      <td>мужской</td>\n",
              "      <td>30</td>\n",
              "      <td>Техникум / Колледж</td>\n",
              "      <td>False</td>\n",
              "      <td>средний</td>\n",
              "      <td>12/06/2017 13:03:47</td>\n",
              "      <td>Mozilla/5.0 (iPhone; CPU iPhone OS 10_3_2 like...</td>\n",
              "      <td>10.0</td>\n",
              "      <td>0.5</td>\n",
              "      <td>4500</td>\n",
              "      <td>JavaScript</td>\n",
              "    </tr>\n",
              "    <tr>\n",
              "      <th>6</th>\n",
              "      <td>7</td>\n",
              "      <td>Junior Software Engineer</td>\n",
              "      <td>1</td>\n",
              "      <td>меньше 3 месяцев</td>\n",
              "      <td>600</td>\n",
              "      <td>100</td>\n",
              "      <td>Хмельницкий</td>\n",
              "      <td>до 50 человек</td>\n",
              "      <td>Аутсорсинговая</td>\n",
              "      <td>мужской</td>\n",
              "      <td>23</td>\n",
              "      <td>Высшее</td>\n",
              "      <td>False</td>\n",
              "      <td>ниже среднего</td>\n",
              "      <td>12/06/2017 13:04:26</td>\n",
              "      <td>Mozilla/5.0 (Windows NT 10.0; Win64; x64) Appl...</td>\n",
              "      <td>1.0</td>\n",
              "      <td>0.0</td>\n",
              "      <td>600</td>\n",
              "      <td>C#/.NET</td>\n",
              "    </tr>\n",
              "    <tr>\n",
              "      <th>7</th>\n",
              "      <td>8</td>\n",
              "      <td>Senior Software Engineer</td>\n",
              "      <td>6</td>\n",
              "      <td>1</td>\n",
              "      <td>3300</td>\n",
              "      <td>500</td>\n",
              "      <td>Киев</td>\n",
              "      <td>до 10 человек</td>\n",
              "      <td>Продуктовая</td>\n",
              "      <td>мужской</td>\n",
              "      <td>28</td>\n",
              "      <td>Высшее</td>\n",
              "      <td>False</td>\n",
              "      <td>выше среднего</td>\n",
              "      <td>12/06/2017 13:04:27</td>\n",
              "      <td>Mozilla/5.0 (X11; Ubuntu; Linux x86_64; rv:53....</td>\n",
              "      <td>6.0</td>\n",
              "      <td>1.0</td>\n",
              "      <td>3300</td>\n",
              "      <td>C++</td>\n",
              "    </tr>\n",
              "    <tr>\n",
              "      <th>...</th>\n",
              "      <td>...</td>\n",
              "      <td>...</td>\n",
              "      <td>...</td>\n",
              "      <td>...</td>\n",
              "      <td>...</td>\n",
              "      <td>...</td>\n",
              "      <td>...</td>\n",
              "      <td>...</td>\n",
              "      <td>...</td>\n",
              "      <td>...</td>\n",
              "      <td>...</td>\n",
              "      <td>...</td>\n",
              "      <td>...</td>\n",
              "      <td>...</td>\n",
              "      <td>...</td>\n",
              "      <td>...</td>\n",
              "      <td>...</td>\n",
              "      <td>...</td>\n",
              "      <td>...</td>\n",
              "      <td>...</td>\n",
              "    </tr>\n",
              "    <tr>\n",
              "      <th>8692</th>\n",
              "      <td>8693</td>\n",
              "      <td>Software Engineer</td>\n",
              "      <td>5</td>\n",
              "      <td>1</td>\n",
              "      <td>3500</td>\n",
              "      <td>650</td>\n",
              "      <td>Удаленно</td>\n",
              "      <td>до 200 человек</td>\n",
              "      <td>Аутсорсинговая</td>\n",
              "      <td>женский</td>\n",
              "      <td>28</td>\n",
              "      <td>Высшее</td>\n",
              "      <td>False</td>\n",
              "      <td>средний</td>\n",
              "      <td>12/07/2017 13:26:49</td>\n",
              "      <td>Mozilla/5.0 (Macintosh; Intel Mac OS X 10_12_5...</td>\n",
              "      <td>5.0</td>\n",
              "      <td>1.0</td>\n",
              "      <td>3500</td>\n",
              "      <td>Java</td>\n",
              "    </tr>\n",
              "    <tr>\n",
              "      <th>8694</th>\n",
              "      <td>8695</td>\n",
              "      <td>Junior Software Engineer</td>\n",
              "      <td>1</td>\n",
              "      <td>1</td>\n",
              "      <td>550</td>\n",
              "      <td>550</td>\n",
              "      <td>Харьков</td>\n",
              "      <td>до 200 человек</td>\n",
              "      <td>Аутсорсинговая</td>\n",
              "      <td>мужской</td>\n",
              "      <td>23</td>\n",
              "      <td>Высшее</td>\n",
              "      <td>False</td>\n",
              "      <td>ниже среднего</td>\n",
              "      <td>12/07/2017 14:14:33</td>\n",
              "      <td>Mozilla/5.0 (Windows NT 10.0; WOW64; rv:54.0) ...</td>\n",
              "      <td>1.0</td>\n",
              "      <td>1.0</td>\n",
              "      <td>550</td>\n",
              "      <td>C#/.NET</td>\n",
              "    </tr>\n",
              "    <tr>\n",
              "      <th>8695</th>\n",
              "      <td>8696</td>\n",
              "      <td>Software Engineer</td>\n",
              "      <td>1</td>\n",
              "      <td>0.5</td>\n",
              "      <td>1500</td>\n",
              "      <td>1000</td>\n",
              "      <td>Киев</td>\n",
              "      <td>до 10 человек</td>\n",
              "      <td>Стартап</td>\n",
              "      <td>мужской</td>\n",
              "      <td>29</td>\n",
              "      <td>Высшее</td>\n",
              "      <td>False</td>\n",
              "      <td>средний</td>\n",
              "      <td>12/07/2017 14:39:21</td>\n",
              "      <td>Mozilla/5.0 (X11; Linux x86_64) AppleWebKit/53...</td>\n",
              "      <td>1.0</td>\n",
              "      <td>0.5</td>\n",
              "      <td>1500</td>\n",
              "      <td>Python</td>\n",
              "    </tr>\n",
              "    <tr>\n",
              "      <th>8701</th>\n",
              "      <td>8702</td>\n",
              "      <td>Junior Software Engineer</td>\n",
              "      <td>1</td>\n",
              "      <td>0.5</td>\n",
              "      <td>800</td>\n",
              "      <td>500</td>\n",
              "      <td>Львов</td>\n",
              "      <td>до 10 человек</td>\n",
              "      <td>Аутстаффинговая</td>\n",
              "      <td>мужской</td>\n",
              "      <td>30</td>\n",
              "      <td>Незаконченное высшее</td>\n",
              "      <td>False</td>\n",
              "      <td>выше среднего</td>\n",
              "      <td>12/07/2017 17:32:26</td>\n",
              "      <td>Mozilla/5.0 (X11; Linux x86_64) AppleWebKit/53...</td>\n",
              "      <td>1.0</td>\n",
              "      <td>0.5</td>\n",
              "      <td>800</td>\n",
              "      <td>Ruby/Rails</td>\n",
              "    </tr>\n",
              "    <tr>\n",
              "      <th>8703</th>\n",
              "      <td>8704</td>\n",
              "      <td>Senior Software Engineer</td>\n",
              "      <td>7</td>\n",
              "      <td>2</td>\n",
              "      <td>5000</td>\n",
              "      <td>800</td>\n",
              "      <td>Одесса</td>\n",
              "      <td>до 1000 человек</td>\n",
              "      <td>Продуктовая</td>\n",
              "      <td>мужской</td>\n",
              "      <td>28</td>\n",
              "      <td>Высшее</td>\n",
              "      <td>False</td>\n",
              "      <td>выше среднего</td>\n",
              "      <td>12/07/2017 21:28:57</td>\n",
              "      <td>Mozilla/5.0 (iPad; CPU OS 10_3_2 like Mac OS X...</td>\n",
              "      <td>7.0</td>\n",
              "      <td>2.0</td>\n",
              "      <td>5000</td>\n",
              "      <td>Java</td>\n",
              "    </tr>\n",
              "  </tbody>\n",
              "</table>\n",
              "<p>4854 rows × 20 columns</p>\n",
              "</div>"
            ],
            "text/plain": [
              "         N                 Должность  ... salary Язык.программирования\n",
              "2        3         Software Engineer  ...   2500               C#/.NET\n",
              "3        4         Software Engineer  ...   2000            JavaScript\n",
              "4        5  Senior Software Engineer  ...   4500            JavaScript\n",
              "6        7  Junior Software Engineer  ...    600               C#/.NET\n",
              "7        8  Senior Software Engineer  ...   3300                   C++\n",
              "...    ...                       ...  ...    ...                   ...\n",
              "8692  8693         Software Engineer  ...   3500                  Java\n",
              "8694  8695  Junior Software Engineer  ...    550               C#/.NET\n",
              "8695  8696         Software Engineer  ...   1500                Python\n",
              "8701  8702  Junior Software Engineer  ...    800            Ruby/Rails\n",
              "8703  8704  Senior Software Engineer  ...   5000                  Java\n",
              "\n",
              "[4854 rows x 20 columns]"
            ]
          },
          "metadata": {},
          "execution_count": 53
        }
      ]
    },
    {
      "cell_type": "code",
      "metadata": {
        "colab": {
          "base_uri": "https://localhost:8080/"
        },
        "id": "kqjDhg9pjE3n",
        "outputId": "3a43103a-dcad-45ce-d59c-b6be1ad800ad"
      },
      "source": [
        "df.shape"
      ],
      "execution_count": null,
      "outputs": [
        {
          "output_type": "execute_result",
          "data": {
            "text/plain": [
              "(4854, 20)"
            ]
          },
          "metadata": {},
          "execution_count": 52
        }
      ]
    },
    {
      "cell_type": "code",
      "metadata": {
        "colab": {
          "base_uri": "https://localhost:8080/"
        },
        "id": "b0qfZSDdjfGr",
        "outputId": "8c52d1ce-ed8e-4b37-bb6b-a934ed2091c8"
      },
      "source": [
        "python_data = df[df[\"Язык.программирования\"].notna() & df[\"Язык.программирования\"].str.contains(\"Python\")]\n",
        "print(python_data)"
      ],
      "execution_count": null,
      "outputs": [
        {
          "output_type": "stream",
          "name": "stdout",
          "text": [
            "         N                 Должность  ... salary Язык.программирования\n",
            "12      13         Software Engineer  ...    800                Python\n",
            "68      69         Software Engineer  ...    900                Python\n",
            "87      88  Junior Software Engineer  ...    600                Python\n",
            "114    115  Junior Software Engineer  ...    685                Python\n",
            "143    144  Junior Software Engineer  ...    750                Python\n",
            "...    ...                       ...  ...    ...                   ...\n",
            "8546  8547         Software Engineer  ...   2000                Python\n",
            "8625  8626         Software Engineer  ...   1750                Python\n",
            "8635  8636  Senior Software Engineer  ...   4000                Python\n",
            "8673  8674  Junior Software Engineer  ...    350                Python\n",
            "8695  8696         Software Engineer  ...   1500                Python\n",
            "\n",
            "[207 rows x 20 columns]\n"
          ]
        }
      ]
    },
    {
      "cell_type": "code",
      "metadata": {
        "colab": {
          "base_uri": "https://localhost:8080/"
        },
        "id": "lLnNXTzJkcHE",
        "outputId": "5dd66440-8221-468d-8685-63497bbbf05e"
      },
      "source": [
        "python_data.shape"
      ],
      "execution_count": null,
      "outputs": [
        {
          "output_type": "execute_result",
          "data": {
            "text/plain": [
              "(207, 20)"
            ]
          },
          "metadata": {},
          "execution_count": 56
        }
      ]
    },
    {
      "cell_type": "code",
      "metadata": {
        "colab": {
          "base_uri": "https://localhost:8080/"
        },
        "id": "VwVVhghekkRS",
        "outputId": "bac8e1a5-7bc0-4aa7-e5a3-b88d423e6954"
      },
      "source": [
        "python_data_new = python_data.groupby(['Должность'])\n",
        "print(python_data_new)"
      ],
      "execution_count": null,
      "outputs": [
        {
          "output_type": "stream",
          "name": "stdout",
          "text": [
            "<pandas.core.groupby.generic.DataFrameGroupBy object at 0x7feb0c6efb90>\n"
          ]
        }
      ]
    },
    {
      "cell_type": "code",
      "metadata": {
        "colab": {
          "base_uri": "https://localhost:8080/"
        },
        "id": "G6lCppYXk8c5",
        "outputId": "7025f856-8100-43aa-8adb-833d1726ad0d"
      },
      "source": [
        "pf = python_data_new.agg({'Зарплата.в.месяц' : ['min', 'max']})\n",
        "print(pf)\n"
      ],
      "execution_count": null,
      "outputs": [
        {
          "output_type": "stream",
          "name": "stdout",
          "text": [
            "                         Зарплата.в.месяц      \n",
            "                                      min   max\n",
            "Должность                                      \n",
            "Junior Software Engineer              100  1250\n",
            "Senior Software Engineer             1300  9200\n",
            "Software Engineer                     500  5400\n",
            "System Architect                     3000  5000\n",
            "Technical Lead                       1425  6200\n"
          ]
        }
      ]
    },
    {
      "cell_type": "code",
      "metadata": {
        "colab": {
          "base_uri": "https://localhost:8080/",
          "height": 932
        },
        "id": "f2m1NJb8xKoM",
        "outputId": "1cebe55e-e46f-442c-9a4a-2c3f3dc124bf"
      },
      "source": [
        "def fill_avg_salary(position):\n",
        "  avg = python_data[python_data[\"Должность\"] == position]['Зарплата.в.месяц'].mean()\n",
        "  return avg\n",
        "  \n",
        "python_data[\"avg\"] = python_data.apply(lambda p: fill_avg_salary(p.Должность), axis=1)\n",
        "python_data\n",
        "\n"
      ],
      "execution_count": null,
      "outputs": [
        {
          "output_type": "stream",
          "name": "stderr",
          "text": [
            "/usr/local/lib/python3.7/dist-packages/ipykernel_launcher.py:5: SettingWithCopyWarning: \n",
            "A value is trying to be set on a copy of a slice from a DataFrame.\n",
            "Try using .loc[row_indexer,col_indexer] = value instead\n",
            "\n",
            "See the caveats in the documentation: https://pandas.pydata.org/pandas-docs/stable/user_guide/indexing.html#returning-a-view-versus-a-copy\n",
            "  \"\"\"\n"
          ]
        },
        {
          "output_type": "execute_result",
          "data": {
            "text/html": [
              "<div>\n",
              "<style scoped>\n",
              "    .dataframe tbody tr th:only-of-type {\n",
              "        vertical-align: middle;\n",
              "    }\n",
              "\n",
              "    .dataframe tbody tr th {\n",
              "        vertical-align: top;\n",
              "    }\n",
              "\n",
              "    .dataframe thead th {\n",
              "        text-align: right;\n",
              "    }\n",
              "</style>\n",
              "<table border=\"1\" class=\"dataframe\">\n",
              "  <thead>\n",
              "    <tr style=\"text-align: right;\">\n",
              "      <th></th>\n",
              "      <th>N</th>\n",
              "      <th>Должность</th>\n",
              "      <th>Общий.опыт.работы</th>\n",
              "      <th>Опыт.работы.на.текущем.месте</th>\n",
              "      <th>Зарплата.в.месяц</th>\n",
              "      <th>Изменение.зарплаты.за.12.месяцев</th>\n",
              "      <th>Город</th>\n",
              "      <th>Размер.компании</th>\n",
              "      <th>Тип.компании</th>\n",
              "      <th>Пол</th>\n",
              "      <th>Возраст</th>\n",
              "      <th>Образование</th>\n",
              "      <th>Еще.студент</th>\n",
              "      <th>Уровень.английского</th>\n",
              "      <th>Дата.заполнения</th>\n",
              "      <th>User.Agent</th>\n",
              "      <th>exp</th>\n",
              "      <th>current_job_exp</th>\n",
              "      <th>salary</th>\n",
              "      <th>Язык.программирования</th>\n",
              "      <th>avg</th>\n",
              "    </tr>\n",
              "  </thead>\n",
              "  <tbody>\n",
              "    <tr>\n",
              "      <th>12</th>\n",
              "      <td>13</td>\n",
              "      <td>Software Engineer</td>\n",
              "      <td>1</td>\n",
              "      <td>меньше 3 месяцев</td>\n",
              "      <td>800</td>\n",
              "      <td>200</td>\n",
              "      <td>Киев</td>\n",
              "      <td>до 50 человек</td>\n",
              "      <td>Аутсорсинговая</td>\n",
              "      <td>мужской</td>\n",
              "      <td>26</td>\n",
              "      <td>Высшее</td>\n",
              "      <td>False</td>\n",
              "      <td>ниже среднего</td>\n",
              "      <td>12/06/2017 13:05:54</td>\n",
              "      <td>Mozilla/5.0 (Windows NT 6.1; Win64; x64) Apple...</td>\n",
              "      <td>1.0</td>\n",
              "      <td>0.0</td>\n",
              "      <td>800</td>\n",
              "      <td>Python</td>\n",
              "      <td>1799.070000</td>\n",
              "    </tr>\n",
              "    <tr>\n",
              "      <th>68</th>\n",
              "      <td>69</td>\n",
              "      <td>Software Engineer</td>\n",
              "      <td>1.5</td>\n",
              "      <td>0.5</td>\n",
              "      <td>900</td>\n",
              "      <td>900</td>\n",
              "      <td>Киев</td>\n",
              "      <td>до 10 человек</td>\n",
              "      <td>Стартап</td>\n",
              "      <td>мужской</td>\n",
              "      <td>21</td>\n",
              "      <td>Незаконченное высшее</td>\n",
              "      <td>True</td>\n",
              "      <td>выше среднего</td>\n",
              "      <td>12/06/2017 13:11:17</td>\n",
              "      <td>Mozilla/5.0 (Windows NT 10.0; Win64; x64) Appl...</td>\n",
              "      <td>1.5</td>\n",
              "      <td>0.5</td>\n",
              "      <td>900</td>\n",
              "      <td>Python</td>\n",
              "      <td>1799.070000</td>\n",
              "    </tr>\n",
              "    <tr>\n",
              "      <th>87</th>\n",
              "      <td>88</td>\n",
              "      <td>Junior Software Engineer</td>\n",
              "      <td>0.5</td>\n",
              "      <td>0.5</td>\n",
              "      <td>600</td>\n",
              "      <td>0</td>\n",
              "      <td>Киев</td>\n",
              "      <td>до 10 человек</td>\n",
              "      <td>Аутсорсинговая</td>\n",
              "      <td>мужской</td>\n",
              "      <td>19</td>\n",
              "      <td>Незаконченное высшее</td>\n",
              "      <td>True</td>\n",
              "      <td>выше среднего</td>\n",
              "      <td>12/06/2017 13:12:25</td>\n",
              "      <td>Mozilla/5.0 (X11; Linux x86_64) AppleWebKit/53...</td>\n",
              "      <td>0.5</td>\n",
              "      <td>0.5</td>\n",
              "      <td>600</td>\n",
              "      <td>Python</td>\n",
              "      <td>560.841270</td>\n",
              "    </tr>\n",
              "    <tr>\n",
              "      <th>114</th>\n",
              "      <td>115</td>\n",
              "      <td>Junior Software Engineer</td>\n",
              "      <td>1.5</td>\n",
              "      <td>0.5</td>\n",
              "      <td>685</td>\n",
              "      <td>250</td>\n",
              "      <td>Киев</td>\n",
              "      <td>до 1000 человек</td>\n",
              "      <td>Аутсорсинговая</td>\n",
              "      <td>мужской</td>\n",
              "      <td>21</td>\n",
              "      <td>Незаконченное высшее</td>\n",
              "      <td>False</td>\n",
              "      <td>средний</td>\n",
              "      <td>12/06/2017 13:14:52</td>\n",
              "      <td>Mozilla/5.0 (X11; Linux x86_64) AppleWebKit/53...</td>\n",
              "      <td>1.5</td>\n",
              "      <td>0.5</td>\n",
              "      <td>685</td>\n",
              "      <td>Python</td>\n",
              "      <td>560.841270</td>\n",
              "    </tr>\n",
              "    <tr>\n",
              "      <th>143</th>\n",
              "      <td>144</td>\n",
              "      <td>Junior Software Engineer</td>\n",
              "      <td>1</td>\n",
              "      <td>1</td>\n",
              "      <td>750</td>\n",
              "      <td>250</td>\n",
              "      <td>Киев</td>\n",
              "      <td>до 10 человек</td>\n",
              "      <td>Аутсорсинговая</td>\n",
              "      <td>мужской</td>\n",
              "      <td>21</td>\n",
              "      <td>Незаконченное высшее</td>\n",
              "      <td>True</td>\n",
              "      <td>выше среднего</td>\n",
              "      <td>12/06/2017 13:19:10</td>\n",
              "      <td>Mozilla/5.0 (X11; Linux x86_64) AppleWebKit/53...</td>\n",
              "      <td>1.0</td>\n",
              "      <td>1.0</td>\n",
              "      <td>750</td>\n",
              "      <td>Python</td>\n",
              "      <td>560.841270</td>\n",
              "    </tr>\n",
              "    <tr>\n",
              "      <th>...</th>\n",
              "      <td>...</td>\n",
              "      <td>...</td>\n",
              "      <td>...</td>\n",
              "      <td>...</td>\n",
              "      <td>...</td>\n",
              "      <td>...</td>\n",
              "      <td>...</td>\n",
              "      <td>...</td>\n",
              "      <td>...</td>\n",
              "      <td>...</td>\n",
              "      <td>...</td>\n",
              "      <td>...</td>\n",
              "      <td>...</td>\n",
              "      <td>...</td>\n",
              "      <td>...</td>\n",
              "      <td>...</td>\n",
              "      <td>...</td>\n",
              "      <td>...</td>\n",
              "      <td>...</td>\n",
              "      <td>...</td>\n",
              "      <td>...</td>\n",
              "    </tr>\n",
              "    <tr>\n",
              "      <th>8546</th>\n",
              "      <td>8547</td>\n",
              "      <td>Software Engineer</td>\n",
              "      <td>5</td>\n",
              "      <td>1</td>\n",
              "      <td>2000</td>\n",
              "      <td>800</td>\n",
              "      <td>Запорожье</td>\n",
              "      <td>до 50 человек</td>\n",
              "      <td>Аутсорсинговая</td>\n",
              "      <td>мужской</td>\n",
              "      <td>22</td>\n",
              "      <td>Незаконченное высшее</td>\n",
              "      <td>False</td>\n",
              "      <td>средний</td>\n",
              "      <td>10/07/2017 14:11:26</td>\n",
              "      <td>Mozilla/5.0 (Macintosh; Intel Mac OS X 10_12_5...</td>\n",
              "      <td>5.0</td>\n",
              "      <td>1.0</td>\n",
              "      <td>2000</td>\n",
              "      <td>Python</td>\n",
              "      <td>1799.070000</td>\n",
              "    </tr>\n",
              "    <tr>\n",
              "      <th>8625</th>\n",
              "      <td>8626</td>\n",
              "      <td>Software Engineer</td>\n",
              "      <td>4</td>\n",
              "      <td>1</td>\n",
              "      <td>1750</td>\n",
              "      <td>0</td>\n",
              "      <td>Киев</td>\n",
              "      <td>свыше 1000 человек</td>\n",
              "      <td>Аутсорсинговая</td>\n",
              "      <td>мужской</td>\n",
              "      <td>28</td>\n",
              "      <td>Среднее</td>\n",
              "      <td>False</td>\n",
              "      <td>средний</td>\n",
              "      <td>11/07/2017 16:15:40</td>\n",
              "      <td>Mozilla/5.0 (X11; Ubuntu; Linux x86_64; rv:54....</td>\n",
              "      <td>4.0</td>\n",
              "      <td>1.0</td>\n",
              "      <td>1750</td>\n",
              "      <td>Python</td>\n",
              "      <td>1799.070000</td>\n",
              "    </tr>\n",
              "    <tr>\n",
              "      <th>8635</th>\n",
              "      <td>8636</td>\n",
              "      <td>Senior Software Engineer</td>\n",
              "      <td>10 и более лет</td>\n",
              "      <td>меньше 3 месяцев</td>\n",
              "      <td>4000</td>\n",
              "      <td>1300</td>\n",
              "      <td>Удаленно</td>\n",
              "      <td>до 10 человек</td>\n",
              "      <td>Стартап</td>\n",
              "      <td>мужской</td>\n",
              "      <td>33</td>\n",
              "      <td>Высшее</td>\n",
              "      <td>False</td>\n",
              "      <td>выше среднего</td>\n",
              "      <td>11/07/2017 17:51:36</td>\n",
              "      <td>Mozilla/5.0 (X11; Linux x86_64) AppleWebKit/53...</td>\n",
              "      <td>10.0</td>\n",
              "      <td>0.0</td>\n",
              "      <td>4000</td>\n",
              "      <td>Python</td>\n",
              "      <td>3387.096774</td>\n",
              "    </tr>\n",
              "    <tr>\n",
              "      <th>8673</th>\n",
              "      <td>8674</td>\n",
              "      <td>Junior Software Engineer</td>\n",
              "      <td>0.5</td>\n",
              "      <td>0.5</td>\n",
              "      <td>350</td>\n",
              "      <td>50</td>\n",
              "      <td>Киев</td>\n",
              "      <td>до 50 человек</td>\n",
              "      <td>Аутсорсинговая</td>\n",
              "      <td>мужской</td>\n",
              "      <td>22</td>\n",
              "      <td>Высшее</td>\n",
              "      <td>False</td>\n",
              "      <td>средний</td>\n",
              "      <td>12/07/2017 09:37:16</td>\n",
              "      <td>Mozilla/5.0 (X11; Ubuntu; Linux x86_64; rv:54....</td>\n",
              "      <td>0.5</td>\n",
              "      <td>0.5</td>\n",
              "      <td>350</td>\n",
              "      <td>Python</td>\n",
              "      <td>560.841270</td>\n",
              "    </tr>\n",
              "    <tr>\n",
              "      <th>8695</th>\n",
              "      <td>8696</td>\n",
              "      <td>Software Engineer</td>\n",
              "      <td>1</td>\n",
              "      <td>0.5</td>\n",
              "      <td>1500</td>\n",
              "      <td>1000</td>\n",
              "      <td>Киев</td>\n",
              "      <td>до 10 человек</td>\n",
              "      <td>Стартап</td>\n",
              "      <td>мужской</td>\n",
              "      <td>29</td>\n",
              "      <td>Высшее</td>\n",
              "      <td>False</td>\n",
              "      <td>средний</td>\n",
              "      <td>12/07/2017 14:39:21</td>\n",
              "      <td>Mozilla/5.0 (X11; Linux x86_64) AppleWebKit/53...</td>\n",
              "      <td>1.0</td>\n",
              "      <td>0.5</td>\n",
              "      <td>1500</td>\n",
              "      <td>Python</td>\n",
              "      <td>1799.070000</td>\n",
              "    </tr>\n",
              "  </tbody>\n",
              "</table>\n",
              "<p>207 rows × 21 columns</p>\n",
              "</div>"
            ],
            "text/plain": [
              "         N                 Должность  ... Язык.программирования          avg\n",
              "12      13         Software Engineer  ...                Python  1799.070000\n",
              "68      69         Software Engineer  ...                Python  1799.070000\n",
              "87      88  Junior Software Engineer  ...                Python   560.841270\n",
              "114    115  Junior Software Engineer  ...                Python   560.841270\n",
              "143    144  Junior Software Engineer  ...                Python   560.841270\n",
              "...    ...                       ...  ...                   ...          ...\n",
              "8546  8547         Software Engineer  ...                Python  1799.070000\n",
              "8625  8626         Software Engineer  ...                Python  1799.070000\n",
              "8635  8636  Senior Software Engineer  ...                Python  3387.096774\n",
              "8673  8674  Junior Software Engineer  ...                Python   560.841270\n",
              "8695  8696         Software Engineer  ...                Python  1799.070000\n",
              "\n",
              "[207 rows x 21 columns]"
            ]
          },
          "metadata": {},
          "execution_count": 213
        }
      ]
    },
    {
      "cell_type": "code",
      "metadata": {
        "colab": {
          "base_uri": "https://localhost:8080/"
        },
        "id": "6bdv3btqdD9E",
        "outputId": "f75ec59e-e99c-4b90-ce62-2fec40cf9766"
      },
      "source": [
        "python_data[\"avg\"].describe()"
      ],
      "execution_count": null,
      "outputs": [
        {
          "output_type": "execute_result",
          "data": {
            "text/plain": [
              "count     207.000000\n",
              "mean     1753.937198\n",
              "std       996.562606\n",
              "min       560.841270\n",
              "25%       560.841270\n",
              "50%      1799.070000\n",
              "75%      1799.070000\n",
              "max      4000.000000\n",
              "Name: avg, dtype: float64"
            ]
          },
          "metadata": {},
          "execution_count": 215
        }
      ]
    },
    {
      "cell_type": "code",
      "metadata": {
        "id": "4vRM4FmRlk5O"
      },
      "source": [
        "python_data.to_csv(\"python_data.csv\")"
      ],
      "execution_count": null,
      "outputs": []
    }
  ]
}