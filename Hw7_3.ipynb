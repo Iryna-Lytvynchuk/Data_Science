{
  "nbformat": 4,
  "nbformat_minor": 0,
  "metadata": {
    "colab": {
      "name": "Hw7.3.ipynb",
      "provenance": [],
      "collapsed_sections": [],
      "authorship_tag": "ABX9TyM6PE2sKTGBOcNYSU/D/YeJ",
      "include_colab_link": true
    },
    "kernelspec": {
      "name": "python3",
      "display_name": "Python 3"
    },
    "language_info": {
      "name": "python"
    }
  },
  "cells": [
    {
      "cell_type": "markdown",
      "metadata": {
        "id": "view-in-github",
        "colab_type": "text"
      },
      "source": [
        "<a href=\"https://colab.research.google.com/github/Iryna-Lytvynchuk/Data_Science/blob/main/Hw7_3.ipynb\" target=\"_parent\"><img src=\"https://colab.research.google.com/assets/colab-badge.svg\" alt=\"Open In Colab\"/></a>"
      ]
    },
    {
      "cell_type": "code",
      "metadata": {
        "id": "nX9jOqsoKiUI"
      },
      "source": [
        "from sklearn.datasets import load_diabetes\n",
        "from sklearn.linear_model import LinearRegression\n",
        "from sklearn.model_selection import train_test_split\n",
        "import numpy as np\n",
        "\n",
        "X, y = load_diabetes(return_X_y=True)\n",
        "X_train, X_test, y_train, y_test = train_test_split(X, y, test_size=0.33)"
      ],
      "execution_count": 24,
      "outputs": []
    },
    {
      "cell_type": "code",
      "metadata": {
        "colab": {
          "base_uri": "https://localhost:8080/"
        },
        "id": "32EoG83_LfJB",
        "outputId": "a3c92028-b48f-4be8-867f-d816bb903729"
      },
      "source": [
        "regressor = LinearRegression().fit(X_train, y_train)\n",
        "print(regressor.intercept_)"
      ],
      "execution_count": 34,
      "outputs": [
        {
          "output_type": "stream",
          "name": "stdout",
          "text": [
            "153.10200059565736\n"
          ]
        }
      ]
    },
    {
      "cell_type": "code",
      "metadata": {
        "colab": {
          "base_uri": "https://localhost:8080/"
        },
        "id": "1ag--BNnLlUo",
        "outputId": "bead6f91-56b1-46d9-dcb3-9a9bc7af225a"
      },
      "source": [
        "#MSE\n",
        "y_pred = regressor.predict(X_test)\n",
        "residuals = y_test - y_pred\n",
        "SSR = np.sum(residuals**2)\n",
        "print(SSR / len(y_test))\n"
      ],
      "execution_count": 37,
      "outputs": [
        {
          "output_type": "stream",
          "name": "stdout",
          "text": [
            "3486.3911273568083\n"
          ]
        }
      ]
    },
    {
      "cell_type": "code",
      "metadata": {
        "id": "6Z4GZs0yNxgO"
      },
      "source": [
        "X, y = load_diabetes(return_X_y=True)\n",
        "X_train, X_test, y_train, y_test = train_test_split(X, y, test_size=0.1)"
      ],
      "execution_count": 38,
      "outputs": []
    },
    {
      "cell_type": "code",
      "metadata": {
        "colab": {
          "base_uri": "https://localhost:8080/"
        },
        "id": "vrMy9Eg9Nxun",
        "outputId": "387b2ad2-c2cd-4dc6-ff7f-3ad275d2d886"
      },
      "source": [
        "regressor = LinearRegression().fit(X_train, y_train)\n",
        "regressor.score(X, y)"
      ],
      "execution_count": 39,
      "outputs": [
        {
          "output_type": "execute_result",
          "data": {
            "text/plain": [
              "0.5168409005739101"
            ]
          },
          "metadata": {},
          "execution_count": 39
        }
      ]
    },
    {
      "cell_type": "code",
      "metadata": {
        "colab": {
          "base_uri": "https://localhost:8080/"
        },
        "id": "vhPBdtPtN472",
        "outputId": "8ca5d61d-383c-4c51-f519-32b6a3d540c8"
      },
      "source": [
        "#MSE\n",
        "y_pred = regressor.predict(X_test)\n",
        "residuals = y_test - y_pred\n",
        "SSR = np.sum(residuals**2)\n",
        "print(SSR / len(y_test))"
      ],
      "execution_count": 41,
      "outputs": [
        {
          "output_type": "stream",
          "name": "stdout",
          "text": [
            "2739.165746940007\n"
          ]
        }
      ]
    }
  ]
}